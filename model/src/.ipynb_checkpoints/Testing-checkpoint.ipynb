{
 "cells": [
  {
   "cell_type": "code",
   "execution_count": 3,
   "metadata": {},
   "outputs": [],
   "source": [
    "# labeled_testing_ajb_1 = []  # data testing for AJB document page one\n",
    "# labeled_testing_ajb_23 = [] # data testing for AJB document page two and three\n",
    "# testing_data_ajb_1 = []\n",
    "# testing_data_ajb_23 = []"
   ]
  },
  {
   "cell_type": "code",
   "execution_count": 1,
   "metadata": {},
   "outputs": [],
   "source": [
    "# with open(r\"../../dataset/export/ajb_1_test.jsonl\", \"r\") as read_file:\n",
    "#     for line in read_file:\n",
    "#         data = json.loads(line)\n",
    "#         labeled_testing_ajb_1.append(data)\n",
    "\n",
    "# with open(r\"../../dataset/export/ajb_23_test.jsonl\", \"r\") as read_file:\n",
    "#     for line in read_file:\n",
    "#         data = json.loads(line)\n",
    "#         labeled_testing_ajb_23.append(data)"
   ]
  },
  {
   "cell_type": "code",
   "execution_count": 2,
   "metadata": {},
   "outputs": [],
   "source": [
    "import spacy\n",
    "from spacy import displacy"
   ]
  },
  {
   "cell_type": "code",
   "execution_count": null,
   "metadata": {},
   "outputs": [],
   "source": [
    "ajb_nlp_model1 = spacy.load(\"./ajb_1_model/\")"
   ]
  }
 ],
 "metadata": {
  "interpreter": {
   "hash": "64aa93b391567f280d6e5ee2fc23a225628f9c6d5bbd0e507f9b6d8f555bcc5f"
  },
  "kernelspec": {
   "display_name": "Python 3 (ipykernel)",
   "language": "python",
   "name": "python3"
  },
  "language_info": {
   "codemirror_mode": {
    "name": "ipython",
    "version": 3
   },
   "file_extension": ".py",
   "mimetype": "text/x-python",
   "name": "python",
   "nbconvert_exporter": "python",
   "pygments_lexer": "ipython3",
   "version": "3.9.6"
  }
 },
 "nbformat": 4,
 "nbformat_minor": 2
}
